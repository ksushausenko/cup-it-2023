{
  "nbformat": 4,
  "nbformat_minor": 0,
  "metadata": {
    "colab": {
      "provenance": []
    },
    "kernelspec": {
      "name": "python3",
      "display_name": "Python 3"
    },
    "language_info": {
      "name": "python"
    }
  },
  "cells": [
    {
      "cell_type": "code",
      "execution_count": 1,
      "metadata": {
        "colab": {
          "base_uri": "https://localhost:8080/"
        },
        "id": "BtqICWK5niMo",
        "outputId": "f4956003-e1df-49b7-8d76-772526fedbc9"
      },
      "outputs": [
        {
          "output_type": "stream",
          "name": "stdout",
          "text": [
            "Mounted at /content/drive\n"
          ]
        }
      ],
      "source": [
        "from google.colab import drive\n",
        "drive.mount('/content/drive')"
      ]
    },
    {
      "cell_type": "code",
      "source": [
        "import pandas as pd\n",
        "from sklearn.model_selection import train_test_split\n",
        "from sklearn.metrics import accuracy_score\n",
        "from sklearn.metrics import ndcg_score\n",
        "import matplotlib.pyplot as plt\n",
        "import numpy as np\n",
        "import xgboost as xgb"
      ],
      "metadata": {
        "id": "FPC62khhoWGT"
      },
      "execution_count": 2,
      "outputs": []
    },
    {
      "cell_type": "code",
      "source": [
        "df = pd.read_csv(\"/content/drive/MyDrive/ 3 курс/all_features.csv\") #менять на свой путь"
      ],
      "metadata": {
        "id": "MZI0gcs9novF"
      },
      "execution_count": 3,
      "outputs": []
    },
    {
      "cell_type": "code",
      "source": [
        "# разбиваем датафрейм на группы по 5 строк\n",
        "groups = [df[i:i+5] for i in range(0, len(df), 5)]\n",
        "new_groups = []\n",
        "# перемешиваем каждую группу\n",
        "for group in groups:\n",
        "    new_groups.append(group.sample(frac=1))\n",
        "\n",
        "# объединяем группы обратно в один датафрейм\n",
        "df_shuffled = pd.concat(new_groups)"
      ],
      "metadata": {
        "id": "gxzOsgTCrjRK"
      },
      "execution_count": 7,
      "outputs": []
    },
    {
      "cell_type": "code",
      "source": [
        "X = df_shuffled[[ 'polarity', 'subjectivity',\n",
        "       'num_of_symbols', 'percent_of_len_stop_words',\n",
        "       'avg_len_word', 'punctuation', 'sentences', 'connection',\n",
        "       'symbols_by_avg', 'words_by_avg']]\n",
        "y = df_shuffled['score'].values     "
      ],
      "metadata": {
        "id": "5MAOWu2FsHGs"
      },
      "execution_count": 8,
      "outputs": []
    },
    {
      "cell_type": "code",
      "source": [
        "qid_df = df_shuffled['Unnamed: 0'].values"
      ],
      "metadata": {
        "id": "8QJEF7etsiSR"
      },
      "execution_count": 9,
      "outputs": []
    },
    {
      "cell_type": "code",
      "source": [
        "params = {'objective': 'rank:map',\n",
        "          'eval_metric': ['ndcg@5'],\n",
        "          'max_depth': 4,\n",
        "          'learning_rate': 0.05}"
      ],
      "metadata": {
        "id": "TIGQ1bQxohPd"
      },
      "execution_count": 11,
      "outputs": []
    },
    {
      "cell_type": "code",
      "source": [
        "ddf = xgb.DMatrix(X, y, qid = qid_df ) "
      ],
      "metadata": {
        "id": "jelDTKLZsBU3"
      },
      "execution_count": 12,
      "outputs": []
    },
    {
      "cell_type": "code",
      "source": [
        "cv_results = xgb.cv(\n",
        "    params=params,\n",
        "    dtrain= ddf,\n",
        "    num_boost_round= 100,\n",
        "    nfold= 5,\n",
        "    metrics=['ndcg@5', 'map'],\n",
        "    early_stopping_rounds=10,\n",
        "    verbose_eval= 5,\n",
        "    as_pandas = True\n",
        ")\n"
      ],
      "metadata": {
        "id": "aXU3chl-HzRl",
        "colab": {
          "base_uri": "https://localhost:8080/"
        },
        "outputId": "390e0981-1bd4-4abe-ebf7-0a8d109bbe89"
      },
      "execution_count": 13,
      "outputs": [
        {
          "output_type": "stream",
          "name": "stdout",
          "text": [
            "[0]\ttrain-ndcg@5:0.81215+0.00050\ttrain-map:0.93352+0.00029\ttest-ndcg@5:0.81197+0.00071\ttest-map:0.93322+0.00045\n",
            "[5]\ttrain-ndcg@5:0.81508+0.00046\ttrain-map:0.93463+0.00024\ttest-ndcg@5:0.81469+0.00009\ttest-map:0.93423+0.00045\n",
            "[10]\ttrain-ndcg@5:0.81623+0.00103\ttrain-map:0.93500+0.00035\ttest-ndcg@5:0.81603+0.00105\ttest-map:0.93467+0.00051\n",
            "[15]\ttrain-ndcg@5:0.81759+0.00051\ttrain-map:0.93537+0.00022\ttest-ndcg@5:0.81745+0.00084\ttest-map:0.93502+0.00030\n",
            "[20]\ttrain-ndcg@5:0.81853+0.00023\ttrain-map:0.93570+0.00014\ttest-ndcg@5:0.81839+0.00059\ttest-map:0.93538+0.00027\n",
            "[25]\ttrain-ndcg@5:0.81897+0.00029\ttrain-map:0.93583+0.00013\ttest-ndcg@5:0.81878+0.00063\ttest-map:0.93558+0.00030\n",
            "[30]\ttrain-ndcg@5:0.81917+0.00021\ttrain-map:0.93593+0.00013\ttest-ndcg@5:0.81883+0.00058\ttest-map:0.93565+0.00026\n",
            "[35]\ttrain-ndcg@5:0.81930+0.00014\ttrain-map:0.93597+0.00012\ttest-ndcg@5:0.81896+0.00058\ttest-map:0.93569+0.00024\n",
            "[40]\ttrain-ndcg@5:0.81939+0.00016\ttrain-map:0.93600+0.00011\ttest-ndcg@5:0.81905+0.00049\ttest-map:0.93571+0.00026\n",
            "[45]\ttrain-ndcg@5:0.81946+0.00015\ttrain-map:0.93601+0.00010\ttest-ndcg@5:0.81919+0.00048\ttest-map:0.93574+0.00030\n",
            "[50]\ttrain-ndcg@5:0.81954+0.00014\ttrain-map:0.93603+0.00010\ttest-ndcg@5:0.81924+0.00047\ttest-map:0.93573+0.00027\n",
            "[55]\ttrain-ndcg@5:0.81958+0.00012\ttrain-map:0.93604+0.00008\ttest-ndcg@5:0.81928+0.00051\ttest-map:0.93579+0.00027\n",
            "[60]\ttrain-ndcg@5:0.81962+0.00014\ttrain-map:0.93605+0.00009\ttest-ndcg@5:0.81931+0.00055\ttest-map:0.93581+0.00028\n",
            "[65]\ttrain-ndcg@5:0.81966+0.00013\ttrain-map:0.93606+0.00010\ttest-ndcg@5:0.81932+0.00053\ttest-map:0.93581+0.00029\n",
            "[70]\ttrain-ndcg@5:0.81974+0.00012\ttrain-map:0.93610+0.00010\ttest-ndcg@5:0.81937+0.00057\ttest-map:0.93579+0.00028\n"
          ]
        }
      ]
    },
    {
      "cell_type": "code",
      "source": [
        "cv_results"
      ],
      "metadata": {
        "colab": {
          "base_uri": "https://localhost:8080/",
          "height": 423
        },
        "id": "Cu3RM6HSqosL",
        "outputId": "1883205a-6faf-400e-a973-f60d7241e424"
      },
      "execution_count": 14,
      "outputs": [
        {
          "output_type": "execute_result",
          "data": {
            "text/plain": [
              "    train-ndcg@5-mean  train-ndcg@5-std  train-map-mean  train-map-std  \\\n",
              "0            0.812153          0.000504        0.933523       0.000287   \n",
              "1            0.813491          0.000710        0.934079       0.000237   \n",
              "2            0.814029          0.000575        0.934255       0.000249   \n",
              "3            0.814590          0.000254        0.934393       0.000235   \n",
              "4            0.814849          0.000389        0.934485       0.000326   \n",
              "..                ...               ...             ...            ...   \n",
              "57           0.819595          0.000118        0.936041       0.000087   \n",
              "58           0.819602          0.000121        0.936044       0.000090   \n",
              "59           0.819613          0.000123        0.936047       0.000092   \n",
              "60           0.819621          0.000142        0.936049       0.000092   \n",
              "61           0.819627          0.000125        0.936056       0.000092   \n",
              "\n",
              "    test-ndcg@5-mean  test-ndcg@5-std  test-map-mean  test-map-std  \n",
              "0           0.811967         0.000708       0.933217      0.000448  \n",
              "1           0.813169         0.000745       0.933677      0.000396  \n",
              "2           0.813693         0.000651       0.933914      0.000262  \n",
              "3           0.814198         0.000252       0.934107      0.000386  \n",
              "4           0.814472         0.000278       0.934220      0.000387  \n",
              "..               ...              ...            ...           ...  \n",
              "57          0.819271         0.000534       0.935790      0.000263  \n",
              "58          0.819263         0.000541       0.935791      0.000254  \n",
              "59          0.819270         0.000543       0.935794      0.000286  \n",
              "60          0.819308         0.000554       0.935809      0.000281  \n",
              "61          0.819299         0.000554       0.935819      0.000301  \n",
              "\n",
              "[62 rows x 8 columns]"
            ],
            "text/html": [
              "\n",
              "  <div id=\"df-c4a9665a-73c0-4485-88f2-982c996ca678\">\n",
              "    <div class=\"colab-df-container\">\n",
              "      <div>\n",
              "<style scoped>\n",
              "    .dataframe tbody tr th:only-of-type {\n",
              "        vertical-align: middle;\n",
              "    }\n",
              "\n",
              "    .dataframe tbody tr th {\n",
              "        vertical-align: top;\n",
              "    }\n",
              "\n",
              "    .dataframe thead th {\n",
              "        text-align: right;\n",
              "    }\n",
              "</style>\n",
              "<table border=\"1\" class=\"dataframe\">\n",
              "  <thead>\n",
              "    <tr style=\"text-align: right;\">\n",
              "      <th></th>\n",
              "      <th>train-ndcg@5-mean</th>\n",
              "      <th>train-ndcg@5-std</th>\n",
              "      <th>train-map-mean</th>\n",
              "      <th>train-map-std</th>\n",
              "      <th>test-ndcg@5-mean</th>\n",
              "      <th>test-ndcg@5-std</th>\n",
              "      <th>test-map-mean</th>\n",
              "      <th>test-map-std</th>\n",
              "    </tr>\n",
              "  </thead>\n",
              "  <tbody>\n",
              "    <tr>\n",
              "      <th>0</th>\n",
              "      <td>0.812153</td>\n",
              "      <td>0.000504</td>\n",
              "      <td>0.933523</td>\n",
              "      <td>0.000287</td>\n",
              "      <td>0.811967</td>\n",
              "      <td>0.000708</td>\n",
              "      <td>0.933217</td>\n",
              "      <td>0.000448</td>\n",
              "    </tr>\n",
              "    <tr>\n",
              "      <th>1</th>\n",
              "      <td>0.813491</td>\n",
              "      <td>0.000710</td>\n",
              "      <td>0.934079</td>\n",
              "      <td>0.000237</td>\n",
              "      <td>0.813169</td>\n",
              "      <td>0.000745</td>\n",
              "      <td>0.933677</td>\n",
              "      <td>0.000396</td>\n",
              "    </tr>\n",
              "    <tr>\n",
              "      <th>2</th>\n",
              "      <td>0.814029</td>\n",
              "      <td>0.000575</td>\n",
              "      <td>0.934255</td>\n",
              "      <td>0.000249</td>\n",
              "      <td>0.813693</td>\n",
              "      <td>0.000651</td>\n",
              "      <td>0.933914</td>\n",
              "      <td>0.000262</td>\n",
              "    </tr>\n",
              "    <tr>\n",
              "      <th>3</th>\n",
              "      <td>0.814590</td>\n",
              "      <td>0.000254</td>\n",
              "      <td>0.934393</td>\n",
              "      <td>0.000235</td>\n",
              "      <td>0.814198</td>\n",
              "      <td>0.000252</td>\n",
              "      <td>0.934107</td>\n",
              "      <td>0.000386</td>\n",
              "    </tr>\n",
              "    <tr>\n",
              "      <th>4</th>\n",
              "      <td>0.814849</td>\n",
              "      <td>0.000389</td>\n",
              "      <td>0.934485</td>\n",
              "      <td>0.000326</td>\n",
              "      <td>0.814472</td>\n",
              "      <td>0.000278</td>\n",
              "      <td>0.934220</td>\n",
              "      <td>0.000387</td>\n",
              "    </tr>\n",
              "    <tr>\n",
              "      <th>...</th>\n",
              "      <td>...</td>\n",
              "      <td>...</td>\n",
              "      <td>...</td>\n",
              "      <td>...</td>\n",
              "      <td>...</td>\n",
              "      <td>...</td>\n",
              "      <td>...</td>\n",
              "      <td>...</td>\n",
              "    </tr>\n",
              "    <tr>\n",
              "      <th>57</th>\n",
              "      <td>0.819595</td>\n",
              "      <td>0.000118</td>\n",
              "      <td>0.936041</td>\n",
              "      <td>0.000087</td>\n",
              "      <td>0.819271</td>\n",
              "      <td>0.000534</td>\n",
              "      <td>0.935790</td>\n",
              "      <td>0.000263</td>\n",
              "    </tr>\n",
              "    <tr>\n",
              "      <th>58</th>\n",
              "      <td>0.819602</td>\n",
              "      <td>0.000121</td>\n",
              "      <td>0.936044</td>\n",
              "      <td>0.000090</td>\n",
              "      <td>0.819263</td>\n",
              "      <td>0.000541</td>\n",
              "      <td>0.935791</td>\n",
              "      <td>0.000254</td>\n",
              "    </tr>\n",
              "    <tr>\n",
              "      <th>59</th>\n",
              "      <td>0.819613</td>\n",
              "      <td>0.000123</td>\n",
              "      <td>0.936047</td>\n",
              "      <td>0.000092</td>\n",
              "      <td>0.819270</td>\n",
              "      <td>0.000543</td>\n",
              "      <td>0.935794</td>\n",
              "      <td>0.000286</td>\n",
              "    </tr>\n",
              "    <tr>\n",
              "      <th>60</th>\n",
              "      <td>0.819621</td>\n",
              "      <td>0.000142</td>\n",
              "      <td>0.936049</td>\n",
              "      <td>0.000092</td>\n",
              "      <td>0.819308</td>\n",
              "      <td>0.000554</td>\n",
              "      <td>0.935809</td>\n",
              "      <td>0.000281</td>\n",
              "    </tr>\n",
              "    <tr>\n",
              "      <th>61</th>\n",
              "      <td>0.819627</td>\n",
              "      <td>0.000125</td>\n",
              "      <td>0.936056</td>\n",
              "      <td>0.000092</td>\n",
              "      <td>0.819299</td>\n",
              "      <td>0.000554</td>\n",
              "      <td>0.935819</td>\n",
              "      <td>0.000301</td>\n",
              "    </tr>\n",
              "  </tbody>\n",
              "</table>\n",
              "<p>62 rows × 8 columns</p>\n",
              "</div>\n",
              "      <button class=\"colab-df-convert\" onclick=\"convertToInteractive('df-c4a9665a-73c0-4485-88f2-982c996ca678')\"\n",
              "              title=\"Convert this dataframe to an interactive table.\"\n",
              "              style=\"display:none;\">\n",
              "        \n",
              "  <svg xmlns=\"http://www.w3.org/2000/svg\" height=\"24px\"viewBox=\"0 0 24 24\"\n",
              "       width=\"24px\">\n",
              "    <path d=\"M0 0h24v24H0V0z\" fill=\"none\"/>\n",
              "    <path d=\"M18.56 5.44l.94 2.06.94-2.06 2.06-.94-2.06-.94-.94-2.06-.94 2.06-2.06.94zm-11 1L8.5 8.5l.94-2.06 2.06-.94-2.06-.94L8.5 2.5l-.94 2.06-2.06.94zm10 10l.94 2.06.94-2.06 2.06-.94-2.06-.94-.94-2.06-.94 2.06-2.06.94z\"/><path d=\"M17.41 7.96l-1.37-1.37c-.4-.4-.92-.59-1.43-.59-.52 0-1.04.2-1.43.59L10.3 9.45l-7.72 7.72c-.78.78-.78 2.05 0 2.83L4 21.41c.39.39.9.59 1.41.59.51 0 1.02-.2 1.41-.59l7.78-7.78 2.81-2.81c.8-.78.8-2.07 0-2.86zM5.41 20L4 18.59l7.72-7.72 1.47 1.35L5.41 20z\"/>\n",
              "  </svg>\n",
              "      </button>\n",
              "      \n",
              "  <style>\n",
              "    .colab-df-container {\n",
              "      display:flex;\n",
              "      flex-wrap:wrap;\n",
              "      gap: 12px;\n",
              "    }\n",
              "\n",
              "    .colab-df-convert {\n",
              "      background-color: #E8F0FE;\n",
              "      border: none;\n",
              "      border-radius: 50%;\n",
              "      cursor: pointer;\n",
              "      display: none;\n",
              "      fill: #1967D2;\n",
              "      height: 32px;\n",
              "      padding: 0 0 0 0;\n",
              "      width: 32px;\n",
              "    }\n",
              "\n",
              "    .colab-df-convert:hover {\n",
              "      background-color: #E2EBFA;\n",
              "      box-shadow: 0px 1px 2px rgba(60, 64, 67, 0.3), 0px 1px 3px 1px rgba(60, 64, 67, 0.15);\n",
              "      fill: #174EA6;\n",
              "    }\n",
              "\n",
              "    [theme=dark] .colab-df-convert {\n",
              "      background-color: #3B4455;\n",
              "      fill: #D2E3FC;\n",
              "    }\n",
              "\n",
              "    [theme=dark] .colab-df-convert:hover {\n",
              "      background-color: #434B5C;\n",
              "      box-shadow: 0px 1px 3px 1px rgba(0, 0, 0, 0.15);\n",
              "      filter: drop-shadow(0px 1px 2px rgba(0, 0, 0, 0.3));\n",
              "      fill: #FFFFFF;\n",
              "    }\n",
              "  </style>\n",
              "\n",
              "      <script>\n",
              "        const buttonEl =\n",
              "          document.querySelector('#df-c4a9665a-73c0-4485-88f2-982c996ca678 button.colab-df-convert');\n",
              "        buttonEl.style.display =\n",
              "          google.colab.kernel.accessAllowed ? 'block' : 'none';\n",
              "\n",
              "        async function convertToInteractive(key) {\n",
              "          const element = document.querySelector('#df-c4a9665a-73c0-4485-88f2-982c996ca678');\n",
              "          const dataTable =\n",
              "            await google.colab.kernel.invokeFunction('convertToInteractive',\n",
              "                                                     [key], {});\n",
              "          if (!dataTable) return;\n",
              "\n",
              "          const docLinkHtml = 'Like what you see? Visit the ' +\n",
              "            '<a target=\"_blank\" href=https://colab.research.google.com/notebooks/data_table.ipynb>data table notebook</a>'\n",
              "            + ' to learn more about interactive tables.';\n",
              "          element.innerHTML = '';\n",
              "          dataTable['output_type'] = 'display_data';\n",
              "          await google.colab.output.renderOutput(dataTable, element);\n",
              "          const docLink = document.createElement('div');\n",
              "          docLink.innerHTML = docLinkHtml;\n",
              "          element.appendChild(docLink);\n",
              "        }\n",
              "      </script>\n",
              "    </div>\n",
              "  </div>\n",
              "  "
            ]
          },
          "metadata": {},
          "execution_count": 14
        }
      ]
    },
    {
      "cell_type": "code",
      "source": [
        "bst = xgb.train(params, ddf, num_boost_round = 100)"
      ],
      "metadata": {
        "id": "WLr-vvS8n7P1"
      },
      "execution_count": 15,
      "outputs": []
    },
    {
      "cell_type": "code",
      "source": [
        "xgb.plot_importance(bst, importance_type='cover', max_num_features=3)"
      ],
      "metadata": {
        "colab": {
          "base_uri": "https://localhost:8080/",
          "height": 312
        },
        "id": "K1FJrt_Es4Cs",
        "outputId": "7153b2e1-15a3-416a-9bf7-e247f293fd80"
      },
      "execution_count": 26,
      "outputs": [
        {
          "output_type": "execute_result",
          "data": {
            "text/plain": [
              "<Axes: title={'center': 'Feature importance'}, xlabel='F score', ylabel='Features'>"
            ]
          },
          "metadata": {},
          "execution_count": 26
        },
        {
          "output_type": "display_data",
          "data": {
            "text/plain": [
              "<Figure size 432x288 with 1 Axes>"
            ],
            "image/png": "[encoded data removed]"
          },
          "metadata": {
            "needs_background": "light"
          }
        }
      ]
    },
    {
      "cell_type": "markdown",
      "source": [
        "test"
      ],
      "metadata": {
        "id": "LFGKWV-ZI0DE"
      }
    },
    {
      "cell_type": "code",
      "source": [
        "df_test = pd.read_csv(\"/content/drive/MyDrive/ 3 курс/test_with_features.csv\") #менять на свой путь"
      ],
      "metadata": {
        "id": "dVoo9PXHI4Dd"
      },
      "execution_count": 27,
      "outputs": []
    },
    {
      "cell_type": "code",
      "source": [
        "X_test = df_test[[ 'polarity', 'subjectivity',\n",
        "       'num_of_symbols', 'percent_of_len_stop_words',\n",
        "       'avg_len_word', 'punctuation', 'sentences', 'connection',\n",
        "       'symbols_by_avg', 'words_by_avg']]\n",
        "#y_test = df_test['score'].values     "
      ],
      "metadata": {
        "id": "PtakpA_CI-GV"
      },
      "execution_count": 28,
      "outputs": []
    },
    {
      "cell_type": "code",
      "source": [
        "qid_test = df_test['Unnamed: 0'].values"
      ],
      "metadata": {
        "id": "fystKxgOJFCw"
      },
      "execution_count": 29,
      "outputs": []
    },
    {
      "cell_type": "code",
      "source": [
        "dtest = xgb.DMatrix(X_test, qid = qid_test) "
      ],
      "metadata": {
        "id": "CFApo7ARs_Qt"
      },
      "execution_count": 30,
      "outputs": []
    },
    {
      "cell_type": "code",
      "source": [
        "y_pred = bst.predict(dtest) "
      ],
      "metadata": {
        "id": "YkbAszcYJOH4"
      },
      "execution_count": 31,
      "outputs": []
    },
    {
      "cell_type": "code",
      "source": [
        "arr = y_pred.reshape(y_pred.shape[0]//5, 5)\n",
        "int_preds= [] # наши скоры в формате ранжирования от 0 до 4\n",
        "for st in arr:\n",
        "  sorted_idxs = np.argsort(st)[::-1]\n",
        "\n",
        "  value_map = {val: i for i, val in enumerate(sorted(st)[::-1])}\n",
        "\n",
        "  def map_values(val):\n",
        "    return value_map[val]\n",
        "  \n",
        "  new_pred = np.vectorize(map_values)(st)\n",
        "  int_preds.append(new_pred)"
      ],
      "metadata": {
        "id": "yLwtgVBqJbWv"
      },
      "execution_count": 38,
      "outputs": []
    },
    {
      "cell_type": "markdown",
      "source": [
        "сохраняем результаты"
      ],
      "metadata": {
        "id": "UcTBCugaOkau"
      }
    },
    {
      "cell_type": "code",
      "source": [
        "import json\n",
        "# Загрузка файла jsonl\n",
        "with open('/content/drive/MyDrive/ 3 курс/ranking_test.jsonl') as f: #менять на свой путь\n",
        "    lines = f.readlines()"
      ],
      "metadata": {
        "id": "NwqAt7dyL5co"
      },
      "execution_count": 40,
      "outputs": []
    },
    {
      "cell_type": "code",
      "source": [
        "with open('updated_test.jsonl', 'w') as f: #создаем новый json, где теперь будут скоры с числами\n",
        "    for i, line in enumerate(lines):\n",
        "        obj = json.loads(line.strip())\n",
        "        for j, score in enumerate(int_preds[i]):\n",
        "            obj['comments'][j]['score'] = int(score)\n",
        "        f.write(json.dumps(obj) + '\\n')"
      ],
      "metadata": {
        "id": "LR6gbfKCOrcr"
      },
      "execution_count": 45,
      "outputs": []
    }
  ]
}